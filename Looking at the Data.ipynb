{
 "cells": [
  {
   "cell_type": "markdown",
   "id": "c8b10e5e",
   "metadata": {},
   "source": [
    "# Looking at the Data"
   ]
  },
  {
   "cell_type": "markdown",
   "id": "a4c598eb",
   "metadata": {},
   "source": [
    "In this notebook I will be going through a dataset of Rotten Tomatoes reviews to extract the features we need for running the BERT model. We will need to make sure that we remove any null values and unnecessary details that will not be needed for running the BERT model. We will also create train, val, and test csv files for ease of use. Additionally, after splitting the data, we will make sure that the training set is properly balanced by resampling the lower of the two classes (\"Fresh\" & \"Rotten\")."
   ]
  },
  {
   "cell_type": "code",
   "execution_count": 1,
   "id": "f8608da3",
   "metadata": {},
   "outputs": [],
   "source": [
    "import pandas as pd\n",
    "import matplotlib.pyplot as plt\n",
    "import seaborn as sns\n",
    "%matplotlib inline"
   ]
  },
  {
   "cell_type": "code",
   "execution_count": 2,
   "id": "62674c54",
   "metadata": {},
   "outputs": [
    {
     "data": {
      "text/html": [
       "<div>\n",
       "<style scoped>\n",
       "    .dataframe tbody tr th:only-of-type {\n",
       "        vertical-align: middle;\n",
       "    }\n",
       "\n",
       "    .dataframe tbody tr th {\n",
       "        vertical-align: top;\n",
       "    }\n",
       "\n",
       "    .dataframe thead th {\n",
       "        text-align: right;\n",
       "    }\n",
       "</style>\n",
       "<table border=\"1\" class=\"dataframe\">\n",
       "  <thead>\n",
       "    <tr style=\"text-align: right;\">\n",
       "      <th></th>\n",
       "      <th>rotten_tomatoes_link</th>\n",
       "      <th>critic_name</th>\n",
       "      <th>top_critic</th>\n",
       "      <th>publisher_name</th>\n",
       "      <th>review_type</th>\n",
       "      <th>review_score</th>\n",
       "      <th>review_date</th>\n",
       "      <th>review_content</th>\n",
       "    </tr>\n",
       "  </thead>\n",
       "  <tbody>\n",
       "    <tr>\n",
       "      <th>0</th>\n",
       "      <td>m/piano_teacher</td>\n",
       "      <td>Andrew Sarris</td>\n",
       "      <td>True</td>\n",
       "      <td>Observer</td>\n",
       "      <td>Rotten</td>\n",
       "      <td>NaN</td>\n",
       "      <td>2002-04-25</td>\n",
       "      <td>Once one experiences Mr. Haneke's own sadistic...</td>\n",
       "    </tr>\n",
       "    <tr>\n",
       "      <th>1</th>\n",
       "      <td>m/love_songs_2008</td>\n",
       "      <td>Joseph Proimakis</td>\n",
       "      <td>False</td>\n",
       "      <td>Movies for the Masses</td>\n",
       "      <td>Fresh</td>\n",
       "      <td>3/5</td>\n",
       "      <td>2008-06-29</td>\n",
       "      <td>Sokaristiko ohi gia tin tolmi ton eikonon, i t...</td>\n",
       "    </tr>\n",
       "    <tr>\n",
       "      <th>2</th>\n",
       "      <td>m/wake_in_fright</td>\n",
       "      <td>Anton Bitel</td>\n",
       "      <td>False</td>\n",
       "      <td>Film4</td>\n",
       "      <td>Fresh</td>\n",
       "      <td>NaN</td>\n",
       "      <td>2014-03-07</td>\n",
       "      <td>derives its brand of feral menace not from mon...</td>\n",
       "    </tr>\n",
       "    <tr>\n",
       "      <th>3</th>\n",
       "      <td>m/mud_2012</td>\n",
       "      <td>Eric D. Snider</td>\n",
       "      <td>False</td>\n",
       "      <td>EricDSnider.com</td>\n",
       "      <td>Fresh</td>\n",
       "      <td>B+</td>\n",
       "      <td>2013-07-12</td>\n",
       "      <td>Warm, humorous, and smart, a Huckleberry Finni...</td>\n",
       "    </tr>\n",
       "    <tr>\n",
       "      <th>4</th>\n",
       "      <td>m/avengers_infinity_war</td>\n",
       "      <td>Roger Moore</td>\n",
       "      <td>False</td>\n",
       "      <td>Movie Nation</td>\n",
       "      <td>Rotten</td>\n",
       "      <td>2/4</td>\n",
       "      <td>2018-04-25</td>\n",
       "      <td>Maybe \"Deadpool 2\" will be better...</td>\n",
       "    </tr>\n",
       "  </tbody>\n",
       "</table>\n",
       "</div>"
      ],
      "text/plain": [
       "      rotten_tomatoes_link       critic_name  top_critic  \\\n",
       "0          m/piano_teacher     Andrew Sarris        True   \n",
       "1        m/love_songs_2008  Joseph Proimakis       False   \n",
       "2         m/wake_in_fright       Anton Bitel       False   \n",
       "3               m/mud_2012    Eric D. Snider       False   \n",
       "4  m/avengers_infinity_war       Roger Moore       False   \n",
       "\n",
       "          publisher_name review_type review_score review_date  \\\n",
       "0               Observer      Rotten          NaN  2002-04-25   \n",
       "1  Movies for the Masses       Fresh          3/5  2008-06-29   \n",
       "2                  Film4       Fresh          NaN  2014-03-07   \n",
       "3        EricDSnider.com       Fresh           B+  2013-07-12   \n",
       "4           Movie Nation      Rotten          2/4  2018-04-25   \n",
       "\n",
       "                                      review_content  \n",
       "0  Once one experiences Mr. Haneke's own sadistic...  \n",
       "1  Sokaristiko ohi gia tin tolmi ton eikonon, i t...  \n",
       "2  derives its brand of feral menace not from mon...  \n",
       "3  Warm, humorous, and smart, a Huckleberry Finni...  \n",
       "4               Maybe \"Deadpool 2\" will be better...  "
      ]
     },
     "execution_count": 2,
     "metadata": {},
     "output_type": "execute_result"
    }
   ],
   "source": [
    "df = pd.read_csv(\"data//rotten_tomatoes.csv\").sample(frac=0.1, random_state=0).reset_index(drop=True)\n",
    "df.head()"
   ]
  },
  {
   "cell_type": "markdown",
   "id": "b376c666",
   "metadata": {},
   "source": [
    "## Checking for Null Values"
   ]
  },
  {
   "cell_type": "code",
   "execution_count": 3,
   "id": "498c40a8",
   "metadata": {},
   "outputs": [
    {
     "data": {
      "text/plain": [
       "rotten_tomatoes_link        0\n",
       "critic_name              1889\n",
       "top_critic                  0\n",
       "publisher_name              0\n",
       "review_type                 0\n",
       "review_score            30588\n",
       "review_date                 0\n",
       "review_content           6589\n",
       "dtype: int64"
      ]
     },
     "execution_count": 3,
     "metadata": {},
     "output_type": "execute_result"
    }
   ],
   "source": [
    "df.isnull().sum()"
   ]
  },
  {
   "cell_type": "code",
   "execution_count": 4,
   "id": "ad0c9c18",
   "metadata": {},
   "outputs": [
    {
     "data": {
      "text/html": [
       "<div>\n",
       "<style scoped>\n",
       "    .dataframe tbody tr th:only-of-type {\n",
       "        vertical-align: middle;\n",
       "    }\n",
       "\n",
       "    .dataframe tbody tr th {\n",
       "        vertical-align: top;\n",
       "    }\n",
       "\n",
       "    .dataframe thead th {\n",
       "        text-align: right;\n",
       "    }\n",
       "</style>\n",
       "<table border=\"1\" class=\"dataframe\">\n",
       "  <thead>\n",
       "    <tr style=\"text-align: right;\">\n",
       "      <th></th>\n",
       "      <th>review_type</th>\n",
       "      <th>review_content</th>\n",
       "    </tr>\n",
       "  </thead>\n",
       "  <tbody>\n",
       "    <tr>\n",
       "      <th>0</th>\n",
       "      <td>Rotten</td>\n",
       "      <td>Once one experiences Mr. Haneke's own sadistic...</td>\n",
       "    </tr>\n",
       "    <tr>\n",
       "      <th>1</th>\n",
       "      <td>Fresh</td>\n",
       "      <td>Sokaristiko ohi gia tin tolmi ton eikonon, i t...</td>\n",
       "    </tr>\n",
       "    <tr>\n",
       "      <th>2</th>\n",
       "      <td>Fresh</td>\n",
       "      <td>derives its brand of feral menace not from mon...</td>\n",
       "    </tr>\n",
       "    <tr>\n",
       "      <th>3</th>\n",
       "      <td>Fresh</td>\n",
       "      <td>Warm, humorous, and smart, a Huckleberry Finni...</td>\n",
       "    </tr>\n",
       "    <tr>\n",
       "      <th>4</th>\n",
       "      <td>Rotten</td>\n",
       "      <td>Maybe \"Deadpool 2\" will be better...</td>\n",
       "    </tr>\n",
       "  </tbody>\n",
       "</table>\n",
       "</div>"
      ],
      "text/plain": [
       "  review_type                                     review_content\n",
       "0      Rotten  Once one experiences Mr. Haneke's own sadistic...\n",
       "1       Fresh  Sokaristiko ohi gia tin tolmi ton eikonon, i t...\n",
       "2       Fresh  derives its brand of feral menace not from mon...\n",
       "3       Fresh  Warm, humorous, and smart, a Huckleberry Finni...\n",
       "4      Rotten               Maybe \"Deadpool 2\" will be better..."
      ]
     },
     "execution_count": 4,
     "metadata": {},
     "output_type": "execute_result"
    }
   ],
   "source": [
    "df = df[[\"review_type\",\"review_content\"]]\n",
    "df.head()"
   ]
  },
  {
   "cell_type": "code",
   "execution_count": 5,
   "id": "00982a4c",
   "metadata": {},
   "outputs": [
    {
     "name": "stdout",
     "output_type": "stream",
     "text": [
      "Number of classes: 2\n"
     ]
    }
   ],
   "source": [
    "print(f'Number of classes: {df[\"review_type\"].nunique()}')"
   ]
  },
  {
   "cell_type": "code",
   "execution_count": 6,
   "id": "7a13f515",
   "metadata": {},
   "outputs": [
    {
     "name": "stdout",
     "output_type": "stream",
     "text": [
      "Size of the Dataset: 113002\n"
     ]
    }
   ],
   "source": [
    "print(f'Size of the Dataset: {len(df)}')"
   ]
  },
  {
   "cell_type": "code",
   "execution_count": 7,
   "id": "58757e40",
   "metadata": {},
   "outputs": [
    {
     "data": {
      "text/plain": [
       "review_type          0\n",
       "review_content    6589\n",
       "dtype: int64"
      ]
     },
     "execution_count": 7,
     "metadata": {},
     "output_type": "execute_result"
    }
   ],
   "source": [
    "df.isnull().sum()"
   ]
  },
  {
   "cell_type": "code",
   "execution_count": 8,
   "id": "9b5efeb2",
   "metadata": {},
   "outputs": [
    {
     "data": {
      "text/plain": [
       "<AxesSubplot:xlabel='review_type', ylabel='count'>"
      ]
     },
     "execution_count": 8,
     "metadata": {},
     "output_type": "execute_result"
    },
    {
     "data": {
      "image/png": "[encoded data removed]",
      "text/plain": [
       "<Figure size 432x288 with 1 Axes>"
      ]
     },
     "metadata": {
      "needs_background": "light"
     },
     "output_type": "display_data"
    }
   ],
   "source": [
    "sns.countplot(x=\"review_type\", data=df)"
   ]
  },
  {
   "cell_type": "code",
   "execution_count": 9,
   "id": "58176b8f",
   "metadata": {},
   "outputs": [
    {
     "data": {
      "text/plain": [
       "review_type       0\n",
       "review_content    0\n",
       "dtype: int64"
      ]
     },
     "execution_count": 9,
     "metadata": {},
     "output_type": "execute_result"
    }
   ],
   "source": [
    "df = df.dropna()\n",
    "df.isnull().sum()"
   ]
  },
  {
   "cell_type": "code",
   "execution_count": 10,
   "id": "7ca86768",
   "metadata": {},
   "outputs": [
    {
     "data": {
      "text/plain": [
       "<AxesSubplot:xlabel='review_type', ylabel='count'>"
      ]
     },
     "execution_count": 10,
     "metadata": {},
     "output_type": "execute_result"
    },
    {
     "data": {
      "image/png": "[encoded data removed]",
      "text/plain": [
       "<Figure size 432x288 with 1 Axes>"
      ]
     },
     "metadata": {
      "needs_background": "light"
     },
     "output_type": "display_data"
    }
   ],
   "source": [
    "sns.countplot(x=\"review_type\", data=df)"
   ]
  },
  {
   "cell_type": "markdown",
   "id": "59e94ccc",
   "metadata": {},
   "source": [
    "## Checking the Maximum Word Count"
   ]
  },
  {
   "cell_type": "markdown",
   "id": "0548d1f0",
   "metadata": {},
   "source": [
    "**NOTE:** The BERT model we will be applying to this dataset has a maximum word count of 512. We want to make sure that our reviews fall below that threshold. If the text is too long we will need to truncate them."
   ]
  },
  {
   "cell_type": "code",
   "execution_count": 11,
   "id": "d49b3f6b",
   "metadata": {},
   "outputs": [],
   "source": [
    "def df_word_count(df,text_column:str):\n",
    "    max_count = 0\n",
    "    count_list = []\n",
    "    id_max = None\n",
    "    for idx, text in enumerate(df[text_column]):\n",
    "        word_count = len(text.strip().split(\" \"))\n",
    "        count_list.append(word_count)\n",
    "        if word_count > max_count:\n",
    "            max_count = word_count\n",
    "            id_max = idx\n",
    "            \n",
    "    count_dict = {'max_count':max_count,\n",
    "                  'id_max':id_max,\n",
    "                  'count_list':count_list,}\n",
    "    return count_dict"
   ]
  },
  {
   "cell_type": "code",
   "execution_count": 12,
   "id": "4b9e51cd",
   "metadata": {},
   "outputs": [],
   "source": [
    "count_dict = df_word_count(df, \"review_content\")"
   ]
  },
  {
   "cell_type": "code",
   "execution_count": 13,
   "id": "dd43d1c3",
   "metadata": {},
   "outputs": [
    {
     "name": "stdout",
     "output_type": "stream",
     "text": [
      "Max Count for Review Contents: 54\n",
      "ID for Max Count: 96412\n"
     ]
    }
   ],
   "source": [
    "print(f'Max Count for Review Contents: {count_dict[\"max_count\"]}')\n",
    "print(f'ID for Max Count: {count_dict[\"id_max\"]}')"
   ]
  },
  {
   "cell_type": "code",
   "execution_count": 14,
   "id": "b4a77085",
   "metadata": {},
   "outputs": [
    {
     "data": {
      "text/plain": [
       "'Both of the leads do well in their roles, but since the movie is so predictable and some of the attempts at humor go south, most of it just leave you smacking your palm against your forehead.'"
      ]
     },
     "execution_count": 14,
     "metadata": {},
     "output_type": "execute_result"
    }
   ],
   "source": [
    "df[\"review_content\"][count_dict[\"id_max\"]]"
   ]
  },
  {
   "cell_type": "markdown",
   "id": "acaded61",
   "metadata": {},
   "source": [
    "# Label Encoding the Reviews"
   ]
  },
  {
   "cell_type": "code",
   "execution_count": 15,
   "id": "fafb4025",
   "metadata": {},
   "outputs": [],
   "source": [
    "from sklearn.preprocessing import LabelEncoder"
   ]
  },
  {
   "cell_type": "code",
   "execution_count": 16,
   "id": "88ed2c47",
   "metadata": {},
   "outputs": [],
   "source": [
    "le = LabelEncoder()\n",
    "le.fit(df[\"review_type\"])\n",
    "labels = le.transform(df[\"review_type\"])\n",
    "df[\"labels\"] = labels"
   ]
  },
  {
   "cell_type": "code",
   "execution_count": 17,
   "id": "64c7c476",
   "metadata": {},
   "outputs": [
    {
     "data": {
      "text/html": [
       "<div>\n",
       "<style scoped>\n",
       "    .dataframe tbody tr th:only-of-type {\n",
       "        vertical-align: middle;\n",
       "    }\n",
       "\n",
       "    .dataframe tbody tr th {\n",
       "        vertical-align: top;\n",
       "    }\n",
       "\n",
       "    .dataframe thead th {\n",
       "        text-align: right;\n",
       "    }\n",
       "</style>\n",
       "<table border=\"1\" class=\"dataframe\">\n",
       "  <thead>\n",
       "    <tr style=\"text-align: right;\">\n",
       "      <th></th>\n",
       "      <th>labels</th>\n",
       "      <th>review_type</th>\n",
       "      <th>review_content</th>\n",
       "    </tr>\n",
       "  </thead>\n",
       "  <tbody>\n",
       "    <tr>\n",
       "      <th>0</th>\n",
       "      <td>1</td>\n",
       "      <td>Rotten</td>\n",
       "      <td>Once one experiences Mr. Haneke's own sadistic...</td>\n",
       "    </tr>\n",
       "    <tr>\n",
       "      <th>1</th>\n",
       "      <td>0</td>\n",
       "      <td>Fresh</td>\n",
       "      <td>Sokaristiko ohi gia tin tolmi ton eikonon, i t...</td>\n",
       "    </tr>\n",
       "    <tr>\n",
       "      <th>2</th>\n",
       "      <td>0</td>\n",
       "      <td>Fresh</td>\n",
       "      <td>derives its brand of feral menace not from mon...</td>\n",
       "    </tr>\n",
       "    <tr>\n",
       "      <th>3</th>\n",
       "      <td>0</td>\n",
       "      <td>Fresh</td>\n",
       "      <td>Warm, humorous, and smart, a Huckleberry Finni...</td>\n",
       "    </tr>\n",
       "    <tr>\n",
       "      <th>4</th>\n",
       "      <td>1</td>\n",
       "      <td>Rotten</td>\n",
       "      <td>Maybe \"Deadpool 2\" will be better...</td>\n",
       "    </tr>\n",
       "  </tbody>\n",
       "</table>\n",
       "</div>"
      ],
      "text/plain": [
       "   labels review_type                                     review_content\n",
       "0       1      Rotten  Once one experiences Mr. Haneke's own sadistic...\n",
       "1       0       Fresh  Sokaristiko ohi gia tin tolmi ton eikonon, i t...\n",
       "2       0       Fresh  derives its brand of feral menace not from mon...\n",
       "3       0       Fresh  Warm, humorous, and smart, a Huckleberry Finni...\n",
       "4       1      Rotten               Maybe \"Deadpool 2\" will be better..."
      ]
     },
     "execution_count": 17,
     "metadata": {},
     "output_type": "execute_result"
    }
   ],
   "source": [
    "df = pd.DataFrame(df, columns=[\"labels\", \"review_type\", \"review_content\"])\n",
    "df.head()"
   ]
  },
  {
   "cell_type": "code",
   "execution_count": 18,
   "id": "735722fe",
   "metadata": {},
   "outputs": [
    {
     "name": "stdout",
     "output_type": "stream",
     "text": [
      "Label Fresh encoded as 0\n",
      "Label Rotten encoded as 1\n"
     ]
    }
   ],
   "source": [
    "for i, label in enumerate(le.classes_):\n",
    "    print(f'Label {label} encoded as {i}')"
   ]
  },
  {
   "cell_type": "markdown",
   "id": "53acf777",
   "metadata": {},
   "source": [
    "## Splitting the Data for Further Processing"
   ]
  },
  {
   "cell_type": "code",
   "execution_count": 19,
   "id": "08acb09c",
   "metadata": {},
   "outputs": [],
   "source": [
    "from sklearn.model_selection import train_test_split\n",
    "from sklearn.utils import resample"
   ]
  },
  {
   "cell_type": "code",
   "execution_count": 20,
   "id": "af0ee5bb",
   "metadata": {},
   "outputs": [],
   "source": [
    "train_dev_ratio = 0.8\n",
    "val_test_ratio = 0.5\n",
    "random_state = 42\n",
    "\n",
    "train, dev = train_test_split(df, train_size = train_dev_ratio, random_state = random_state)\n",
    "val, test = train_test_split(dev, train_size = val_test_ratio, random_state = random_state)"
   ]
  },
  {
   "cell_type": "code",
   "execution_count": 21,
   "id": "d6d71c8f",
   "metadata": {},
   "outputs": [],
   "source": [
    "train = train.reset_index(drop=True)\n",
    "val = val.reset_index(drop=True)\n",
    "test = test.reset_index(drop=True)"
   ]
  },
  {
   "cell_type": "code",
   "execution_count": 22,
   "id": "cd121a9b",
   "metadata": {},
   "outputs": [
    {
     "data": {
      "text/html": [
       "<div>\n",
       "<style scoped>\n",
       "    .dataframe tbody tr th:only-of-type {\n",
       "        vertical-align: middle;\n",
       "    }\n",
       "\n",
       "    .dataframe tbody tr th {\n",
       "        vertical-align: top;\n",
       "    }\n",
       "\n",
       "    .dataframe thead th {\n",
       "        text-align: right;\n",
       "    }\n",
       "</style>\n",
       "<table border=\"1\" class=\"dataframe\">\n",
       "  <thead>\n",
       "    <tr style=\"text-align: right;\">\n",
       "      <th></th>\n",
       "      <th>labels</th>\n",
       "      <th>review_type</th>\n",
       "      <th>review_content</th>\n",
       "    </tr>\n",
       "  </thead>\n",
       "  <tbody>\n",
       "    <tr>\n",
       "      <th>0</th>\n",
       "      <td>0</td>\n",
       "      <td>Fresh</td>\n",
       "      <td>Captures the tone and spirit of the original.</td>\n",
       "    </tr>\n",
       "    <tr>\n",
       "      <th>1</th>\n",
       "      <td>1</td>\n",
       "      <td>Rotten</td>\n",
       "      <td>Introspective is one thing, but this tormented...</td>\n",
       "    </tr>\n",
       "    <tr>\n",
       "      <th>2</th>\n",
       "      <td>0</td>\n",
       "      <td>Fresh</td>\n",
       "      <td>Charles Bronson may have passed away, but the ...</td>\n",
       "    </tr>\n",
       "    <tr>\n",
       "      <th>3</th>\n",
       "      <td>0</td>\n",
       "      <td>Fresh</td>\n",
       "      <td>You are unlikely to find another contemporary ...</td>\n",
       "    </tr>\n",
       "    <tr>\n",
       "      <th>4</th>\n",
       "      <td>0</td>\n",
       "      <td>Fresh</td>\n",
       "      <td>Real Steel is much like Atom: clunky and a lit...</td>\n",
       "    </tr>\n",
       "  </tbody>\n",
       "</table>\n",
       "</div>"
      ],
      "text/plain": [
       "   labels review_type                                     review_content\n",
       "0       0       Fresh      Captures the tone and spirit of the original.\n",
       "1       1      Rotten  Introspective is one thing, but this tormented...\n",
       "2       0       Fresh  Charles Bronson may have passed away, but the ...\n",
       "3       0       Fresh  You are unlikely to find another contemporary ...\n",
       "4       0       Fresh  Real Steel is much like Atom: clunky and a lit..."
      ]
     },
     "execution_count": 22,
     "metadata": {},
     "output_type": "execute_result"
    }
   ],
   "source": [
    "train.head()"
   ]
  },
  {
   "cell_type": "code",
   "execution_count": 23,
   "id": "f2e1dd0c",
   "metadata": {},
   "outputs": [
    {
     "data": {
      "text/plain": [
       "<AxesSubplot:xlabel='review_type', ylabel='count'>"
      ]
     },
     "execution_count": 23,
     "metadata": {},
     "output_type": "execute_result"
    },
    {
     "data": {
      "image/png": "[encoded data removed]",
      "text/plain": [
       "<Figure size 432x288 with 1 Axes>"
      ]
     },
     "metadata": {
      "needs_background": "light"
     },
     "output_type": "display_data"
    }
   ],
   "source": [
    "sns.countplot(x=\"review_type\", data=train)"
   ]
  },
  {
   "cell_type": "code",
   "execution_count": 24,
   "id": "5ab55819",
   "metadata": {},
   "outputs": [],
   "source": [
    "train_fresh = train[train[\"review_type\"]==\"Fresh\"]\n",
    "train_rotten = train[train[\"review_type\"]==\"Rotten\"]"
   ]
  },
  {
   "cell_type": "code",
   "execution_count": 25,
   "id": "bdec9a73",
   "metadata": {},
   "outputs": [
    {
     "name": "stdout",
     "output_type": "stream",
     "text": [
      "Length of Fresh Reviews: 54599\n",
      "Length of Rotten Reviews: 30531\n"
     ]
    }
   ],
   "source": [
    "print(f'Length of Fresh Reviews: {len(train_fresh)}')\n",
    "print(f'Length of Rotten Reviews: {len(train_rotten)}')"
   ]
  },
  {
   "cell_type": "code",
   "execution_count": 26,
   "id": "e64507e4",
   "metadata": {},
   "outputs": [
    {
     "name": "stdout",
     "output_type": "stream",
     "text": [
      "Length of Upsampled Rotten Reviews: 54599\n"
     ]
    }
   ],
   "source": [
    "train_rotten_upsampled = resample(train_rotten,replace=True,n_samples=len(train_fresh),random_state=42)\n",
    "print(f'Length of Upsampled Rotten Reviews: {len(train_rotten_upsampled)}')"
   ]
  },
  {
   "cell_type": "code",
   "execution_count": 27,
   "id": "e3c02dcf",
   "metadata": {},
   "outputs": [
    {
     "data": {
      "text/plain": [
       "<AxesSubplot:xlabel='review_type', ylabel='count'>"
      ]
     },
     "execution_count": 27,
     "metadata": {},
     "output_type": "execute_result"
    },
    {
     "data": {
      "image/png": "[encoded data removed]",
      "text/plain": [
       "<Figure size 432x288 with 1 Axes>"
      ]
     },
     "metadata": {
      "needs_background": "light"
     },
     "output_type": "display_data"
    }
   ],
   "source": [
    "train_balanced = pd.concat([train_fresh, train_rotten_upsampled])\n",
    "sns.countplot(x=\"review_type\", data=train_balanced)"
   ]
  },
  {
   "cell_type": "markdown",
   "id": "1371437c",
   "metadata": {},
   "source": [
    "# Saving Dataframes"
   ]
  },
  {
   "cell_type": "code",
   "execution_count": 28,
   "id": "cb103ab9",
   "metadata": {},
   "outputs": [],
   "source": [
    "train_balanced.to_csv('data//train.csv',index=False)\n",
    "val.to_csv('data//val.csv',index=False)\n",
    "test.to_csv('data//test.csv',index=False)"
   ]
  }
 ],
 "metadata": {
  "kernelspec": {
   "display_name": "pytorch",
   "language": "python",
   "name": "pytorch"
  },
  "language_info": {
   "codemirror_mode": {
    "name": "ipython",
    "version": 3
   },
   "file_extension": ".py",
   "mimetype": "text/x-python",
   "name": "python",
   "nbconvert_exporter": "python",
   "pygments_lexer": "ipython3",
   "version": "3.8.11"
  }
 },
 "nbformat": 4,
 "nbformat_minor": 5
}
